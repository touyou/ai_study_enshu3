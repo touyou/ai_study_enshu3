{
 "cells": [
  {
   "cell_type": "markdown",
   "metadata": {
    "colab_type": "text",
    "id": "ho0HUSfh4fqR"
   },
   "source": [
    "## 必要なライブラリのインポート"
   ]
  },
  {
   "cell_type": "code",
   "execution_count": 4,
   "metadata": {
    "colab": {
     "autoexec": {
      "startup": false,
      "wait_interval": 0
     },
     "base_uri": "https://localhost:8080/",
     "height": 35
    },
    "colab_type": "code",
    "executionInfo": {
     "elapsed": 7993,
     "status": "ok",
     "timestamp": 1527478383551,
     "user": {
      "displayName": "Yosuke Fujii",
      "photoUrl": "//lh5.googleusercontent.com/-pKCOvkQHTcE/AAAAAAAAAAI/AAAAAAAAFU8/0WiPho4pxWE/s50-c-k-no/photo.jpg",
      "userId": "117989243335840590172"
     },
     "user_tz": -540
    },
    "id": "W29qtmVM0z6v",
    "outputId": "91b2d703-2539-4de9-ce4e-6e2810e94390"
   },
   "outputs": [],
   "source": [
    "import pandas as pd\n",
    "import csv\n",
    "import numpy as np\n",
    "import tensorflow as tf\n",
    "import io\n",
    "import pickle\n",
    "import os\n",
    "import urllib.request\n",
    "import keras"
   ]
  },
  {
   "cell_type": "markdown",
   "metadata": {
    "colab_type": "text",
    "id": "7p6ugroy76c_"
   },
   "source": [
    "## 読み込みと確認"
   ]
  },
  {
   "cell_type": "code",
   "execution_count": 5,
   "metadata": {
    "colab": {
     "autoexec": {
      "startup": false,
      "wait_interval": 0
     }
    },
    "colab_type": "code",
    "id": "ubND08DJ327y"
   },
   "outputs": [],
   "source": [
    "test_data = pd.read_table('kbvt_lfpw_v1_test.csv')\n",
    "train_data = pd.read_table('kbvt_lfpw_v1_train.csv')"
   ]
  },
  {
   "cell_type": "code",
   "execution_count": 6,
   "metadata": {
    "colab": {
     "autoexec": {
      "startup": false,
      "wait_interval": 0
     },
     "base_uri": "https://localhost:8080/",
     "height": 1133
    },
    "colab_type": "code",
    "executionInfo": {
     "elapsed": 590,
     "status": "ok",
     "timestamp": 1527416828608,
     "user": {
      "displayName": "Yosuke Fujii",
      "photoUrl": "//lh5.googleusercontent.com/-pKCOvkQHTcE/AAAAAAAAAAI/AAAAAAAAFU8/0WiPho4pxWE/s50-c-k-no/photo.jpg",
      "userId": "117989243335840590172"
     },
     "user_tz": -540
    },
    "id": "SWF2vYlp4rOK",
    "outputId": "477afd7f-b5c6-479f-db8b-58ff163829a0"
   },
   "outputs": [
    {
     "data": {
      "text/plain": [
       "0       http://www.absolutely.net/wenn/handy_manny_05_...\n",
       "1       http://www.absolutely.net/wenn/handy_manny_05_...\n",
       "2       http://www.absolutely.net/wenn/handy_manny_05_...\n",
       "3       http://www.absolutely.net/wenn/handy_manny_05_...\n",
       "4       http://www.absolutely.net/wenn/tribute_roy_sch...\n",
       "5       http://www.absolutely.net/wenn/tribute_roy_sch...\n",
       "6       http://www.absolutely.net/wenn/tribute_roy_sch...\n",
       "7       http://www.absolutely.net/wenn/tribute_roy_sch...\n",
       "8           http://atgbcentral.com/guestbook/modernms.jpg\n",
       "9           http://atgbcentral.com/guestbook/modernms.jpg\n",
       "10          http://atgbcentral.com/guestbook/modernms.jpg\n",
       "11          http://atgbcentral.com/guestbook/modernms.jpg\n",
       "12      http://www.austinchronicle.com/binary/5552/scr...\n",
       "13      http://www.austinchronicle.com/binary/5552/scr...\n",
       "14      http://www.austinchronicle.com/binary/5552/scr...\n",
       "15      http://www.austinchronicle.com/binary/5552/scr...\n",
       "16      http://blahblahblah.beloblog.com/archives/NMV_...\n",
       "17      http://blahblahblah.beloblog.com/archives/NMV_...\n",
       "18      http://blahblahblah.beloblog.com/archives/NMV_...\n",
       "19      http://blahblahblah.beloblog.com/archives/NMV_...\n",
       "20      http://www.biggeststars.com/imgcontent/galleri...\n",
       "21      http://www.biggeststars.com/imgcontent/galleri...\n",
       "22      http://www.biggeststars.com/imgcontent/galleri...\n",
       "23      http://www.biggeststars.com/imgcontent/galleri...\n",
       "24             http://www.bisabuelos.com/juanbernardo.jpg\n",
       "25             http://www.bisabuelos.com/juanbernardo.jpg\n",
       "26             http://www.bisabuelos.com/juanbernardo.jpg\n",
       "27             http://www.bisabuelos.com/juanbernardo.jpg\n",
       "28          http://don.blog.is/users/01/don/img/babel.jpg\n",
       "29          http://don.blog.is/users/01/don/img/babel.jpg\n",
       "                              ...                        \n",
       "1169    http://www.aceshowbiz.com/images/events/SPX-01...\n",
       "1170    http://www.aceshowbiz.com/images/events/SPX-01...\n",
       "1171    http://www.ajlmagazine.com/graphics/subpages/c...\n",
       "1172    http://www.ajlmagazine.com/graphics/subpages/c...\n",
       "1173    http://www.ajlmagazine.com/graphics/subpages/c...\n",
       "1174    http://www.ajlmagazine.com/graphics/subpages/c...\n",
       "1175    http://img2.allposters.com/images/MMPH/243070.jpg\n",
       "1176    http://img2.allposters.com/images/MMPH/243070.jpg\n",
       "1177    http://img2.allposters.com/images/MMPH/243070.jpg\n",
       "1178    http://img2.allposters.com/images/MMPH/243070.jpg\n",
       "1179    http://static.amctv.com/img/originals/shootout...\n",
       "1180    http://static.amctv.com/img/originals/shootout...\n",
       "1181    http://static.amctv.com/img/originals/shootout...\n",
       "1182    http://static.amctv.com/img/originals/shootout...\n",
       "1183    http://www.americansuperstarmag.com/sites/defa...\n",
       "1184    http://www.americansuperstarmag.com/sites/defa...\n",
       "1185    http://www.americansuperstarmag.com/sites/defa...\n",
       "1186    http://www.americansuperstarmag.com/sites/defa...\n",
       "1187    http://andrewbruckerheadshots.com/gallery/larg...\n",
       "1188    http://andrewbruckerheadshots.com/gallery/larg...\n",
       "1189    http://andrewbruckerheadshots.com/gallery/larg...\n",
       "1190    http://andrewbruckerheadshots.com/gallery/larg...\n",
       "1191    http://anythinghollywood.com/wp-content/2008/0...\n",
       "1192    http://anythinghollywood.com/wp-content/2008/0...\n",
       "1193    http://anythinghollywood.com/wp-content/2008/0...\n",
       "1194    http://anythinghollywood.com/wp-content/2008/0...\n",
       "1195    http://s1.b3ta.com/host/creative/30865/1253109...\n",
       "1196    http://s1.b3ta.com/host/creative/30865/1253109...\n",
       "1197    http://s1.b3ta.com/host/creative/30865/1253109...\n",
       "1198    http://s1.b3ta.com/host/creative/30865/1253109...\n",
       "Name: imgurl, Length: 1199, dtype: object"
      ]
     },
     "execution_count": 6,
     "metadata": {},
     "output_type": "execute_result"
    }
   ],
   "source": [
    "test_data['imgurl'] # どういうふうに読み込むかのテスト"
   ]
  },
  {
   "cell_type": "code",
   "execution_count": 25,
   "metadata": {
    "colab": {
     "autoexec": {
      "startup": false,
      "wait_interval": 0
     },
     "base_uri": "https://localhost:8080/",
     "height": 1882
    },
    "colab_type": "code",
    "executionInfo": {
     "elapsed": 1469,
     "status": "error",
     "timestamp": 1527417160310,
     "user": {
      "displayName": "Yosuke Fujii",
      "photoUrl": "//lh5.googleusercontent.com/-pKCOvkQHTcE/AAAAAAAAAAI/AAAAAAAAFU8/0WiPho4pxWE/s50-c-k-no/photo.jpg",
      "userId": "117989243335840590172"
     },
     "user_tz": -540
    },
    "id": "IjMd5D35GzGT",
    "outputId": "890ef7e9-103f-4e53-ab8d-f9043c29251e"
   },
   "outputs": [
    {
     "name": "stdout",
     "output_type": "stream",
     "text": [
      "start downloadhandy_manny_05_wenn5360250.jpg\n",
      "ERROR\n",
      "start downloadhandy_manny_05_wenn5360250.jpg\n",
      "ERROR\n",
      "start downloadhandy_manny_05_wenn5360250.jpg\n",
      "ERROR\n",
      "start downloadhandy_manny_05_wenn5360250.jpg\n",
      "ERROR\n",
      "start downloadtribute_roy_scheider_09_wenn2359064.jpg\n",
      "ERROR\n",
      "start downloadtribute_roy_scheider_09_wenn2359064.jpg\n",
      "ERROR\n",
      "start downloadtribute_roy_scheider_09_wenn2359064.jpg\n",
      "ERROR\n",
      "start downloadtribute_roy_scheider_09_wenn2359064.jpg\n",
      "ERROR\n",
      "start downloadmodernms.jpg\n",
      "ERROR\n",
      "start downloadmodernms.jpg\n",
      "ERROR\n",
      "start downloadmodernms.jpg\n",
      "ERROR\n",
      "start downloadmodernms.jpg\n",
      "ERROR\n",
      "start downloadscreens_feature1-2.jpg\n",
      "start downloadscreens_feature1-2.jpg\n",
      "start downloadscreens_feature1-2.jpg\n",
      "start downloadscreens_feature1-2.jpg\n",
      "start downloadNMV_29dogs3.JPG\n",
      "ERROR\n",
      "start downloadNMV_29dogs3.JPG\n",
      "ERROR\n",
      "start downloadNMV_29dogs3.JPG\n",
      "ERROR\n",
      "start downloadNMV_29dogs3.JPG\n",
      "ERROR\n",
      "start downloadlinda-hamilton-40344.jpeg\n",
      "ERROR\n",
      "start downloadlinda-hamilton-40344.jpeg\n",
      "ERROR\n",
      "start downloadlinda-hamilton-40344.jpeg\n",
      "ERROR\n",
      "start downloadlinda-hamilton-40344.jpeg\n",
      "ERROR\n",
      "start downloadjuanbernardo.jpg\n",
      "/Users/touyou/Projects/Study/ai/img/juanbernardo.jpg\n",
      "start downloadjuanbernardo.jpg\n",
      "start downloadjuanbernardo.jpg\n",
      "start downloadjuanbernardo.jpg\n",
      "start downloadbabel.jpg\n",
      "/Users/touyou/Projects/Study/ai/img/babel.jpg\n",
      "start downloadbabel.jpg\n",
      "start downloadbabel.jpg\n",
      "start downloadbabel.jpg\n",
      "start download8c7fd2b2-b2cc-46a2-b314-ac0a57c00efeIMG_2155.jpg\n",
      "/Users/touyou/Projects/Study/ai/img/8c7fd2b2-b2cc-46a2-b314-ac0a57c00efeIMG_2155.jpg\n",
      "start download8c7fd2b2-b2cc-46a2-b314-ac0a57c00efeIMG_2155.jpg\n",
      "start download8c7fd2b2-b2cc-46a2-b314-ac0a57c00efeIMG_2155.jpg\n",
      "start download8c7fd2b2-b2cc-46a2-b314-ac0a57c00efeIMG_2155.jpg\n",
      "start downloadMAITE%2BPERRONI.jpg\n",
      "/Users/touyou/Projects/Study/ai/img/MAITE%2BPERRONI.jpg\n",
      "start downloadMAITE%2BPERRONI.jpg\n",
      "start downloadMAITE%2BPERRONI.jpg\n",
      "start downloadMAITE%2BPERRONI.jpg\n",
      "start downloadPSA%252BLinney.jpg\n",
      "/Users/touyou/Projects/Study/ai/img/PSA%252BLinney.jpg\n",
      "start downloadPSA%252BLinney.jpg\n",
      "start downloadPSA%252BLinney.jpg\n",
      "start downloadPSA%252BLinney.jpg\n",
      "start downloadoscar_lunch_020607_0114.jpg\n",
      "ERROR\n",
      "start downloadoscar_lunch_020607_0114.jpg\n",
      "ERROR\n",
      "start downloadoscar_lunch_020607_0114.jpg\n",
      "ERROR\n",
      "start downloadoscar_lunch_020607_0114.jpg\n",
      "ERROR\n",
      "start downloadadriana_miceli.jpg\n",
      "ERROR\n",
      "start downloadadriana_miceli.jpg\n",
      "ERROR\n",
      "start downloadadriana_miceli.jpg\n",
      "ERROR\n",
      "start downloadadriana_miceli.jpg\n",
      "ERROR\n",
      "start download107069-1-large.jpg\n"
     ]
    },
    {
     "ename": "ConnectionResetError",
     "evalue": "[Errno 54] Connection reset by peer",
     "output_type": "error",
     "traceback": [
      "\u001b[0;31m---------------------------------------------------------------------------\u001b[0m",
      "\u001b[0;31mConnectionResetError\u001b[0m                      Traceback (most recent call last)",
      "\u001b[0;32m<ipython-input-25-50d4c2933f72>\u001b[0m in \u001b[0;36m<module>\u001b[0;34m()\u001b[0m\n\u001b[1;32m     18\u001b[0m   \u001b[0mfile_name\u001b[0m \u001b[0;34m=\u001b[0m \u001b[0mpick_file_name\u001b[0m\u001b[0;34m(\u001b[0m\u001b[0mfile_url\u001b[0m\u001b[0;34m)\u001b[0m\u001b[0;34m\u001b[0m\u001b[0m\n\u001b[1;32m     19\u001b[0m   \u001b[0mprint\u001b[0m\u001b[0;34m(\u001b[0m\u001b[0;34m\"start download\"\u001b[0m \u001b[0;34m+\u001b[0m \u001b[0mfile_name\u001b[0m\u001b[0;34m)\u001b[0m\u001b[0;34m\u001b[0m\u001b[0m\n\u001b[0;32m---> 20\u001b[0;31m   \u001b[0m_download\u001b[0m\u001b[0;34m(\u001b[0m\u001b[0mfile_url\u001b[0m\u001b[0;34m,\u001b[0m \u001b[0mfile_name\u001b[0m\u001b[0;34m)\u001b[0m\u001b[0;34m\u001b[0m\u001b[0m\n\u001b[0m\u001b[1;32m     21\u001b[0m \u001b[0;34m\u001b[0m\u001b[0m\n\u001b[1;32m     22\u001b[0m \u001b[0;32mfor\u001b[0m \u001b[0mfile_url\u001b[0m \u001b[0;32min\u001b[0m \u001b[0mtrain_data\u001b[0m\u001b[0;34m[\u001b[0m\u001b[0;34m'imgurl'\u001b[0m\u001b[0;34m]\u001b[0m\u001b[0;34m:\u001b[0m\u001b[0;34m\u001b[0m\u001b[0m\n",
      "\u001b[0;32m<ipython-input-25-50d4c2933f72>\u001b[0m in \u001b[0;36m_download\u001b[0;34m(file_url, file_name)\u001b[0m\n\u001b[1;32m      7\u001b[0m     \u001b[0;32mreturn\u001b[0m\u001b[0;34m\u001b[0m\u001b[0m\n\u001b[1;32m      8\u001b[0m   \u001b[0;32mtry\u001b[0m\u001b[0;34m:\u001b[0m\u001b[0;34m\u001b[0m\u001b[0m\n\u001b[0;32m----> 9\u001b[0;31m     \u001b[0murllib\u001b[0m\u001b[0;34m.\u001b[0m\u001b[0mrequest\u001b[0m\u001b[0;34m.\u001b[0m\u001b[0murlretrieve\u001b[0m\u001b[0;34m(\u001b[0m\u001b[0mfile_url\u001b[0m\u001b[0;34m,\u001b[0m \u001b[0mfile_path\u001b[0m\u001b[0;34m)\u001b[0m\u001b[0;34m\u001b[0m\u001b[0m\n\u001b[0m\u001b[1;32m     10\u001b[0m     \u001b[0mprint\u001b[0m\u001b[0;34m(\u001b[0m\u001b[0mfile_path\u001b[0m\u001b[0;34m)\u001b[0m\u001b[0;34m\u001b[0m\u001b[0m\n\u001b[1;32m     11\u001b[0m   \u001b[0;32mexcept\u001b[0m \u001b[0murllib\u001b[0m\u001b[0;34m.\u001b[0m\u001b[0merror\u001b[0m\u001b[0;34m.\u001b[0m\u001b[0mURLError\u001b[0m \u001b[0;32mas\u001b[0m \u001b[0me\u001b[0m\u001b[0;34m:\u001b[0m\u001b[0;34m\u001b[0m\u001b[0m\n",
      "\u001b[0;32m/usr/local/Cellar/python/3.6.5/Frameworks/Python.framework/Versions/3.6/lib/python3.6/urllib/request.py\u001b[0m in \u001b[0;36murlretrieve\u001b[0;34m(url, filename, reporthook, data)\u001b[0m\n\u001b[1;32m    246\u001b[0m     \u001b[0murl_type\u001b[0m\u001b[0;34m,\u001b[0m \u001b[0mpath\u001b[0m \u001b[0;34m=\u001b[0m \u001b[0msplittype\u001b[0m\u001b[0;34m(\u001b[0m\u001b[0murl\u001b[0m\u001b[0;34m)\u001b[0m\u001b[0;34m\u001b[0m\u001b[0m\n\u001b[1;32m    247\u001b[0m \u001b[0;34m\u001b[0m\u001b[0m\n\u001b[0;32m--> 248\u001b[0;31m     \u001b[0;32mwith\u001b[0m \u001b[0mcontextlib\u001b[0m\u001b[0;34m.\u001b[0m\u001b[0mclosing\u001b[0m\u001b[0;34m(\u001b[0m\u001b[0murlopen\u001b[0m\u001b[0;34m(\u001b[0m\u001b[0murl\u001b[0m\u001b[0;34m,\u001b[0m \u001b[0mdata\u001b[0m\u001b[0;34m)\u001b[0m\u001b[0;34m)\u001b[0m \u001b[0;32mas\u001b[0m \u001b[0mfp\u001b[0m\u001b[0;34m:\u001b[0m\u001b[0;34m\u001b[0m\u001b[0m\n\u001b[0m\u001b[1;32m    249\u001b[0m         \u001b[0mheaders\u001b[0m \u001b[0;34m=\u001b[0m \u001b[0mfp\u001b[0m\u001b[0;34m.\u001b[0m\u001b[0minfo\u001b[0m\u001b[0;34m(\u001b[0m\u001b[0;34m)\u001b[0m\u001b[0;34m\u001b[0m\u001b[0m\n\u001b[1;32m    250\u001b[0m \u001b[0;34m\u001b[0m\u001b[0m\n",
      "\u001b[0;32m/usr/local/Cellar/python/3.6.5/Frameworks/Python.framework/Versions/3.6/lib/python3.6/urllib/request.py\u001b[0m in \u001b[0;36murlopen\u001b[0;34m(url, data, timeout, cafile, capath, cadefault, context)\u001b[0m\n\u001b[1;32m    221\u001b[0m     \u001b[0;32melse\u001b[0m\u001b[0;34m:\u001b[0m\u001b[0;34m\u001b[0m\u001b[0m\n\u001b[1;32m    222\u001b[0m         \u001b[0mopener\u001b[0m \u001b[0;34m=\u001b[0m \u001b[0m_opener\u001b[0m\u001b[0;34m\u001b[0m\u001b[0m\n\u001b[0;32m--> 223\u001b[0;31m     \u001b[0;32mreturn\u001b[0m \u001b[0mopener\u001b[0m\u001b[0;34m.\u001b[0m\u001b[0mopen\u001b[0m\u001b[0;34m(\u001b[0m\u001b[0murl\u001b[0m\u001b[0;34m,\u001b[0m \u001b[0mdata\u001b[0m\u001b[0;34m,\u001b[0m \u001b[0mtimeout\u001b[0m\u001b[0;34m)\u001b[0m\u001b[0;34m\u001b[0m\u001b[0m\n\u001b[0m\u001b[1;32m    224\u001b[0m \u001b[0;34m\u001b[0m\u001b[0m\n\u001b[1;32m    225\u001b[0m \u001b[0;32mdef\u001b[0m \u001b[0minstall_opener\u001b[0m\u001b[0;34m(\u001b[0m\u001b[0mopener\u001b[0m\u001b[0;34m)\u001b[0m\u001b[0;34m:\u001b[0m\u001b[0;34m\u001b[0m\u001b[0m\n",
      "\u001b[0;32m/usr/local/Cellar/python/3.6.5/Frameworks/Python.framework/Versions/3.6/lib/python3.6/urllib/request.py\u001b[0m in \u001b[0;36mopen\u001b[0;34m(self, fullurl, data, timeout)\u001b[0m\n\u001b[1;32m    524\u001b[0m             \u001b[0mreq\u001b[0m \u001b[0;34m=\u001b[0m \u001b[0mmeth\u001b[0m\u001b[0;34m(\u001b[0m\u001b[0mreq\u001b[0m\u001b[0;34m)\u001b[0m\u001b[0;34m\u001b[0m\u001b[0m\n\u001b[1;32m    525\u001b[0m \u001b[0;34m\u001b[0m\u001b[0m\n\u001b[0;32m--> 526\u001b[0;31m         \u001b[0mresponse\u001b[0m \u001b[0;34m=\u001b[0m \u001b[0mself\u001b[0m\u001b[0;34m.\u001b[0m\u001b[0m_open\u001b[0m\u001b[0;34m(\u001b[0m\u001b[0mreq\u001b[0m\u001b[0;34m,\u001b[0m \u001b[0mdata\u001b[0m\u001b[0;34m)\u001b[0m\u001b[0;34m\u001b[0m\u001b[0m\n\u001b[0m\u001b[1;32m    527\u001b[0m \u001b[0;34m\u001b[0m\u001b[0m\n\u001b[1;32m    528\u001b[0m         \u001b[0;31m# post-process response\u001b[0m\u001b[0;34m\u001b[0m\u001b[0;34m\u001b[0m\u001b[0m\n",
      "\u001b[0;32m/usr/local/Cellar/python/3.6.5/Frameworks/Python.framework/Versions/3.6/lib/python3.6/urllib/request.py\u001b[0m in \u001b[0;36m_open\u001b[0;34m(self, req, data)\u001b[0m\n\u001b[1;32m    542\u001b[0m         \u001b[0mprotocol\u001b[0m \u001b[0;34m=\u001b[0m \u001b[0mreq\u001b[0m\u001b[0;34m.\u001b[0m\u001b[0mtype\u001b[0m\u001b[0;34m\u001b[0m\u001b[0m\n\u001b[1;32m    543\u001b[0m         result = self._call_chain(self.handle_open, protocol, protocol +\n\u001b[0;32m--> 544\u001b[0;31m                                   '_open', req)\n\u001b[0m\u001b[1;32m    545\u001b[0m         \u001b[0;32mif\u001b[0m \u001b[0mresult\u001b[0m\u001b[0;34m:\u001b[0m\u001b[0;34m\u001b[0m\u001b[0m\n\u001b[1;32m    546\u001b[0m             \u001b[0;32mreturn\u001b[0m \u001b[0mresult\u001b[0m\u001b[0;34m\u001b[0m\u001b[0m\n",
      "\u001b[0;32m/usr/local/Cellar/python/3.6.5/Frameworks/Python.framework/Versions/3.6/lib/python3.6/urllib/request.py\u001b[0m in \u001b[0;36m_call_chain\u001b[0;34m(self, chain, kind, meth_name, *args)\u001b[0m\n\u001b[1;32m    502\u001b[0m         \u001b[0;32mfor\u001b[0m \u001b[0mhandler\u001b[0m \u001b[0;32min\u001b[0m \u001b[0mhandlers\u001b[0m\u001b[0;34m:\u001b[0m\u001b[0;34m\u001b[0m\u001b[0m\n\u001b[1;32m    503\u001b[0m             \u001b[0mfunc\u001b[0m \u001b[0;34m=\u001b[0m \u001b[0mgetattr\u001b[0m\u001b[0;34m(\u001b[0m\u001b[0mhandler\u001b[0m\u001b[0;34m,\u001b[0m \u001b[0mmeth_name\u001b[0m\u001b[0;34m)\u001b[0m\u001b[0;34m\u001b[0m\u001b[0m\n\u001b[0;32m--> 504\u001b[0;31m             \u001b[0mresult\u001b[0m \u001b[0;34m=\u001b[0m \u001b[0mfunc\u001b[0m\u001b[0;34m(\u001b[0m\u001b[0;34m*\u001b[0m\u001b[0margs\u001b[0m\u001b[0;34m)\u001b[0m\u001b[0;34m\u001b[0m\u001b[0m\n\u001b[0m\u001b[1;32m    505\u001b[0m             \u001b[0;32mif\u001b[0m \u001b[0mresult\u001b[0m \u001b[0;32mis\u001b[0m \u001b[0;32mnot\u001b[0m \u001b[0;32mNone\u001b[0m\u001b[0;34m:\u001b[0m\u001b[0;34m\u001b[0m\u001b[0m\n\u001b[1;32m    506\u001b[0m                 \u001b[0;32mreturn\u001b[0m \u001b[0mresult\u001b[0m\u001b[0;34m\u001b[0m\u001b[0m\n",
      "\u001b[0;32m/usr/local/Cellar/python/3.6.5/Frameworks/Python.framework/Versions/3.6/lib/python3.6/urllib/request.py\u001b[0m in \u001b[0;36mhttp_open\u001b[0;34m(self, req)\u001b[0m\n\u001b[1;32m   1344\u001b[0m \u001b[0;34m\u001b[0m\u001b[0m\n\u001b[1;32m   1345\u001b[0m     \u001b[0;32mdef\u001b[0m \u001b[0mhttp_open\u001b[0m\u001b[0;34m(\u001b[0m\u001b[0mself\u001b[0m\u001b[0;34m,\u001b[0m \u001b[0mreq\u001b[0m\u001b[0;34m)\u001b[0m\u001b[0;34m:\u001b[0m\u001b[0;34m\u001b[0m\u001b[0m\n\u001b[0;32m-> 1346\u001b[0;31m         \u001b[0;32mreturn\u001b[0m \u001b[0mself\u001b[0m\u001b[0;34m.\u001b[0m\u001b[0mdo_open\u001b[0m\u001b[0;34m(\u001b[0m\u001b[0mhttp\u001b[0m\u001b[0;34m.\u001b[0m\u001b[0mclient\u001b[0m\u001b[0;34m.\u001b[0m\u001b[0mHTTPConnection\u001b[0m\u001b[0;34m,\u001b[0m \u001b[0mreq\u001b[0m\u001b[0;34m)\u001b[0m\u001b[0;34m\u001b[0m\u001b[0m\n\u001b[0m\u001b[1;32m   1347\u001b[0m \u001b[0;34m\u001b[0m\u001b[0m\n\u001b[1;32m   1348\u001b[0m     \u001b[0mhttp_request\u001b[0m \u001b[0;34m=\u001b[0m \u001b[0mAbstractHTTPHandler\u001b[0m\u001b[0;34m.\u001b[0m\u001b[0mdo_request_\u001b[0m\u001b[0;34m\u001b[0m\u001b[0m\n",
      "\u001b[0;32m/usr/local/Cellar/python/3.6.5/Frameworks/Python.framework/Versions/3.6/lib/python3.6/urllib/request.py\u001b[0m in \u001b[0;36mdo_open\u001b[0;34m(self, http_class, req, **http_conn_args)\u001b[0m\n\u001b[1;32m   1319\u001b[0m             \u001b[0;32mexcept\u001b[0m \u001b[0mOSError\u001b[0m \u001b[0;32mas\u001b[0m \u001b[0merr\u001b[0m\u001b[0;34m:\u001b[0m \u001b[0;31m# timeout error\u001b[0m\u001b[0;34m\u001b[0m\u001b[0m\n\u001b[1;32m   1320\u001b[0m                 \u001b[0;32mraise\u001b[0m \u001b[0mURLError\u001b[0m\u001b[0;34m(\u001b[0m\u001b[0merr\u001b[0m\u001b[0;34m)\u001b[0m\u001b[0;34m\u001b[0m\u001b[0m\n\u001b[0;32m-> 1321\u001b[0;31m             \u001b[0mr\u001b[0m \u001b[0;34m=\u001b[0m \u001b[0mh\u001b[0m\u001b[0;34m.\u001b[0m\u001b[0mgetresponse\u001b[0m\u001b[0;34m(\u001b[0m\u001b[0;34m)\u001b[0m\u001b[0;34m\u001b[0m\u001b[0m\n\u001b[0m\u001b[1;32m   1322\u001b[0m         \u001b[0;32mexcept\u001b[0m\u001b[0;34m:\u001b[0m\u001b[0;34m\u001b[0m\u001b[0m\n\u001b[1;32m   1323\u001b[0m             \u001b[0mh\u001b[0m\u001b[0;34m.\u001b[0m\u001b[0mclose\u001b[0m\u001b[0;34m(\u001b[0m\u001b[0;34m)\u001b[0m\u001b[0;34m\u001b[0m\u001b[0m\n",
      "\u001b[0;32m/usr/local/Cellar/python/3.6.5/Frameworks/Python.framework/Versions/3.6/lib/python3.6/http/client.py\u001b[0m in \u001b[0;36mgetresponse\u001b[0;34m(self)\u001b[0m\n\u001b[1;32m   1329\u001b[0m         \u001b[0;32mtry\u001b[0m\u001b[0;34m:\u001b[0m\u001b[0;34m\u001b[0m\u001b[0m\n\u001b[1;32m   1330\u001b[0m             \u001b[0;32mtry\u001b[0m\u001b[0;34m:\u001b[0m\u001b[0;34m\u001b[0m\u001b[0m\n\u001b[0;32m-> 1331\u001b[0;31m                 \u001b[0mresponse\u001b[0m\u001b[0;34m.\u001b[0m\u001b[0mbegin\u001b[0m\u001b[0;34m(\u001b[0m\u001b[0;34m)\u001b[0m\u001b[0;34m\u001b[0m\u001b[0m\n\u001b[0m\u001b[1;32m   1332\u001b[0m             \u001b[0;32mexcept\u001b[0m \u001b[0mConnectionError\u001b[0m\u001b[0;34m:\u001b[0m\u001b[0;34m\u001b[0m\u001b[0m\n\u001b[1;32m   1333\u001b[0m                 \u001b[0mself\u001b[0m\u001b[0;34m.\u001b[0m\u001b[0mclose\u001b[0m\u001b[0;34m(\u001b[0m\u001b[0;34m)\u001b[0m\u001b[0;34m\u001b[0m\u001b[0m\n",
      "\u001b[0;32m/usr/local/Cellar/python/3.6.5/Frameworks/Python.framework/Versions/3.6/lib/python3.6/http/client.py\u001b[0m in \u001b[0;36mbegin\u001b[0;34m(self)\u001b[0m\n\u001b[1;32m    295\u001b[0m         \u001b[0;31m# read until we get a non-100 response\u001b[0m\u001b[0;34m\u001b[0m\u001b[0;34m\u001b[0m\u001b[0m\n\u001b[1;32m    296\u001b[0m         \u001b[0;32mwhile\u001b[0m \u001b[0;32mTrue\u001b[0m\u001b[0;34m:\u001b[0m\u001b[0;34m\u001b[0m\u001b[0m\n\u001b[0;32m--> 297\u001b[0;31m             \u001b[0mversion\u001b[0m\u001b[0;34m,\u001b[0m \u001b[0mstatus\u001b[0m\u001b[0;34m,\u001b[0m \u001b[0mreason\u001b[0m \u001b[0;34m=\u001b[0m \u001b[0mself\u001b[0m\u001b[0;34m.\u001b[0m\u001b[0m_read_status\u001b[0m\u001b[0;34m(\u001b[0m\u001b[0;34m)\u001b[0m\u001b[0;34m\u001b[0m\u001b[0m\n\u001b[0m\u001b[1;32m    298\u001b[0m             \u001b[0;32mif\u001b[0m \u001b[0mstatus\u001b[0m \u001b[0;34m!=\u001b[0m \u001b[0mCONTINUE\u001b[0m\u001b[0;34m:\u001b[0m\u001b[0;34m\u001b[0m\u001b[0m\n\u001b[1;32m    299\u001b[0m                 \u001b[0;32mbreak\u001b[0m\u001b[0;34m\u001b[0m\u001b[0m\n",
      "\u001b[0;32m/usr/local/Cellar/python/3.6.5/Frameworks/Python.framework/Versions/3.6/lib/python3.6/http/client.py\u001b[0m in \u001b[0;36m_read_status\u001b[0;34m(self)\u001b[0m\n\u001b[1;32m    256\u001b[0m \u001b[0;34m\u001b[0m\u001b[0m\n\u001b[1;32m    257\u001b[0m     \u001b[0;32mdef\u001b[0m \u001b[0m_read_status\u001b[0m\u001b[0;34m(\u001b[0m\u001b[0mself\u001b[0m\u001b[0;34m)\u001b[0m\u001b[0;34m:\u001b[0m\u001b[0;34m\u001b[0m\u001b[0m\n\u001b[0;32m--> 258\u001b[0;31m         \u001b[0mline\u001b[0m \u001b[0;34m=\u001b[0m \u001b[0mstr\u001b[0m\u001b[0;34m(\u001b[0m\u001b[0mself\u001b[0m\u001b[0;34m.\u001b[0m\u001b[0mfp\u001b[0m\u001b[0;34m.\u001b[0m\u001b[0mreadline\u001b[0m\u001b[0;34m(\u001b[0m\u001b[0m_MAXLINE\u001b[0m \u001b[0;34m+\u001b[0m \u001b[0;36m1\u001b[0m\u001b[0;34m)\u001b[0m\u001b[0;34m,\u001b[0m \u001b[0;34m\"iso-8859-1\"\u001b[0m\u001b[0;34m)\u001b[0m\u001b[0;34m\u001b[0m\u001b[0m\n\u001b[0m\u001b[1;32m    259\u001b[0m         \u001b[0;32mif\u001b[0m \u001b[0mlen\u001b[0m\u001b[0;34m(\u001b[0m\u001b[0mline\u001b[0m\u001b[0;34m)\u001b[0m \u001b[0;34m>\u001b[0m \u001b[0m_MAXLINE\u001b[0m\u001b[0;34m:\u001b[0m\u001b[0;34m\u001b[0m\u001b[0m\n\u001b[1;32m    260\u001b[0m             \u001b[0;32mraise\u001b[0m \u001b[0mLineTooLong\u001b[0m\u001b[0;34m(\u001b[0m\u001b[0;34m\"status line\"\u001b[0m\u001b[0;34m)\u001b[0m\u001b[0;34m\u001b[0m\u001b[0m\n",
      "\u001b[0;32m/usr/local/Cellar/python/3.6.5/Frameworks/Python.framework/Versions/3.6/lib/python3.6/socket.py\u001b[0m in \u001b[0;36mreadinto\u001b[0;34m(self, b)\u001b[0m\n\u001b[1;32m    584\u001b[0m         \u001b[0;32mwhile\u001b[0m \u001b[0;32mTrue\u001b[0m\u001b[0;34m:\u001b[0m\u001b[0;34m\u001b[0m\u001b[0m\n\u001b[1;32m    585\u001b[0m             \u001b[0;32mtry\u001b[0m\u001b[0;34m:\u001b[0m\u001b[0;34m\u001b[0m\u001b[0m\n\u001b[0;32m--> 586\u001b[0;31m                 \u001b[0;32mreturn\u001b[0m \u001b[0mself\u001b[0m\u001b[0;34m.\u001b[0m\u001b[0m_sock\u001b[0m\u001b[0;34m.\u001b[0m\u001b[0mrecv_into\u001b[0m\u001b[0;34m(\u001b[0m\u001b[0mb\u001b[0m\u001b[0;34m)\u001b[0m\u001b[0;34m\u001b[0m\u001b[0m\n\u001b[0m\u001b[1;32m    587\u001b[0m             \u001b[0;32mexcept\u001b[0m \u001b[0mtimeout\u001b[0m\u001b[0;34m:\u001b[0m\u001b[0;34m\u001b[0m\u001b[0m\n\u001b[1;32m    588\u001b[0m                 \u001b[0mself\u001b[0m\u001b[0;34m.\u001b[0m\u001b[0m_timeout_occurred\u001b[0m \u001b[0;34m=\u001b[0m \u001b[0;32mTrue\u001b[0m\u001b[0;34m\u001b[0m\u001b[0m\n",
      "\u001b[0;31mConnectionResetError\u001b[0m: [Errno 54] Connection reset by peer"
     ]
    }
   ],
   "source": [
    "dataset_dir = os.path.dirname('/Users/touyou/Projects/Study/ai/img/')\n",
    "save_file = dataset_dir + \"/lfpw.pkl\"\n",
    "\n",
    "def _download(file_url, file_name):\n",
    "  file_path = dataset_dir + \"/\" + file_name\n",
    "  if os.path.exists(file_path):\n",
    "    return\n",
    "  try:\n",
    "    urllib.request.urlretrieve(file_url, file_path)\n",
    "    print(file_path)\n",
    "  except urllib.error.URLError as e:\n",
    "    print(\"ERROR\")\n",
    "\n",
    "def pick_file_name(file_url):\n",
    "  return file_url.split(\"/\")[-1]\n",
    "\n",
    "for file_url in test_data['imgurl']:\n",
    "  file_name = pick_file_name(file_url)\n",
    "  print(\"start download\" + file_name)\n",
    "  _download(file_url, file_name)\n",
    "\n",
    "for file_url in train_data['imgurl']:\n",
    "  file_name = pick_file_name(file_url)\n",
    "  print(\"start download\" + file_name)\n",
    "  _download(file_url, file_name)"
   ]
  },
  {
   "cell_type": "markdown",
   "metadata": {
    "colab_type": "text",
    "id": "9HMS-4SJ88cN"
   },
   "source": [
    "## ここから実践編"
   ]
  },
  {
   "cell_type": "code",
   "execution_count": null,
   "metadata": {},
   "outputs": [],
   "source": []
  }
 ],
 "metadata": {
  "accelerator": "GPU",
  "colab": {
   "collapsed_sections": [
    "7p6ugroy76c_"
   ],
   "default_view": {},
   "name": "FacePartsRecognition.ipynb",
   "provenance": [],
   "version": "0.3.2",
   "views": {}
  },
  "kernelspec": {
   "display_name": "Python 3",
   "language": "python",
   "name": "python3"
  },
  "language_info": {
   "codemirror_mode": {
    "name": "ipython",
    "version": 3
   },
   "file_extension": ".py",
   "mimetype": "text/x-python",
   "name": "python",
   "nbconvert_exporter": "python",
   "pygments_lexer": "ipython3",
   "version": "3.6.5"
  }
 },
 "nbformat": 4,
 "nbformat_minor": 1
}
